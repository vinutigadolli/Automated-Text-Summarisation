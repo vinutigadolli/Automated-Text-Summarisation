{
 "cells": [
  {
   "cell_type": "code",
   "execution_count": 1,
   "id": "2bde4fa1",
   "metadata": {},
   "outputs": [],
   "source": [
    "import numpy as np\n",
    "import pandas as pd\n",
    "import matplotlib.pyplot as plt\n"
   ]
  },
  {
   "cell_type": "code",
   "execution_count": 2,
   "id": "8589dfda",
   "metadata": {},
   "outputs": [
    {
     "data": {
      "text/html": [
       "<div>\n",
       "<style scoped>\n",
       "    .dataframe tbody tr th:only-of-type {\n",
       "        vertical-align: middle;\n",
       "    }\n",
       "\n",
       "    .dataframe tbody tr th {\n",
       "        vertical-align: top;\n",
       "    }\n",
       "\n",
       "    .dataframe thead th {\n",
       "        text-align: right;\n",
       "    }\n",
       "</style>\n",
       "<table border=\"1\" class=\"dataframe\">\n",
       "  <thead>\n",
       "    <tr style=\"text-align: right;\">\n",
       "      <th></th>\n",
       "      <th>article_id</th>\n",
       "      <th>article_title</th>\n",
       "      <th>article_text</th>\n",
       "    </tr>\n",
       "  </thead>\n",
       "  <tbody>\n",
       "    <tr>\n",
       "      <th>0</th>\n",
       "      <td>1</td>\n",
       "      <td>I do not have friends in�tennis, says Maria Sh...</td>\n",
       "      <td>Maria Sharapova has basically no friends as te...</td>\n",
       "    </tr>\n",
       "    <tr>\n",
       "      <th>1</th>\n",
       "      <td>2</td>\n",
       "      <td>Federer defeats Medvedev to advance to 14th Sw...</td>\n",
       "      <td>BASEL, Switzerland (AP) � Roger Federer advanc...</td>\n",
       "    </tr>\n",
       "    <tr>\n",
       "      <th>2</th>\n",
       "      <td>3</td>\n",
       "      <td>Tennis: Roger Federer ignored deadline set by ...</td>\n",
       "      <td>Roger Federer has revealed that organisers of ...</td>\n",
       "    </tr>\n",
       "    <tr>\n",
       "      <th>3</th>\n",
       "      <td>4</td>\n",
       "      <td>Nishikori to face off against Anderson in Vien...</td>\n",
       "      <td>Kei Nishikori will try to end his long losing ...</td>\n",
       "    </tr>\n",
       "    <tr>\n",
       "      <th>4</th>\n",
       "      <td>5</td>\n",
       "      <td>Roger Federer has made this huge change to ten...</td>\n",
       "      <td>Federer, 37, first broke through on tour over ...</td>\n",
       "    </tr>\n",
       "    <tr>\n",
       "      <th>5</th>\n",
       "      <td>6</td>\n",
       "      <td>Rafael Nadal: World No 1 ARRIVES for Paris Mas...</td>\n",
       "      <td>Nadal has not played tennis since he was force...</td>\n",
       "    </tr>\n",
       "    <tr>\n",
       "      <th>6</th>\n",
       "      <td>7</td>\n",
       "      <td>TENNIS.COM PODCAST: POINT DEFENSE, RANKING DRO...</td>\n",
       "      <td>Tennis giveth, and tennis taketh away. The end...</td>\n",
       "    </tr>\n",
       "    <tr>\n",
       "      <th>7</th>\n",
       "      <td>8</td>\n",
       "      <td>Tennis journalist�s heartbreaking insight on T...</td>\n",
       "      <td>I PLAYED golf last week with Todd Reid. He pic...</td>\n",
       "    </tr>\n",
       "  </tbody>\n",
       "</table>\n",
       "</div>"
      ],
      "text/plain": [
       "   article_id                                      article_title  \\\n",
       "0           1  I do not have friends in�tennis, says Maria Sh...   \n",
       "1           2  Federer defeats Medvedev to advance to 14th Sw...   \n",
       "2           3  Tennis: Roger Federer ignored deadline set by ...   \n",
       "3           4  Nishikori to face off against Anderson in Vien...   \n",
       "4           5  Roger Federer has made this huge change to ten...   \n",
       "5           6  Rafael Nadal: World No 1 ARRIVES for Paris Mas...   \n",
       "6           7  TENNIS.COM PODCAST: POINT DEFENSE, RANKING DRO...   \n",
       "7           8  Tennis journalist�s heartbreaking insight on T...   \n",
       "\n",
       "                                        article_text  \n",
       "0  Maria Sharapova has basically no friends as te...  \n",
       "1  BASEL, Switzerland (AP) � Roger Federer advanc...  \n",
       "2  Roger Federer has revealed that organisers of ...  \n",
       "3  Kei Nishikori will try to end his long losing ...  \n",
       "4  Federer, 37, first broke through on tour over ...  \n",
       "5  Nadal has not played tennis since he was force...  \n",
       "6  Tennis giveth, and tennis taketh away. The end...  \n",
       "7  I PLAYED golf last week with Todd Reid. He pic...  "
      ]
     },
     "execution_count": 2,
     "metadata": {},
     "output_type": "execute_result"
    }
   ],
   "source": [
    "# Load the Dataset\n",
    "col_to_use = ['article_id','article_title','article_text']\n",
    "df = pd.read_csv(\"tennis_articles.csv\",usecols=col_to_use)\n",
    "df"
   ]
  },
  {
   "cell_type": "code",
   "execution_count": 3,
   "id": "f11b398e",
   "metadata": {
    "scrolled": true
   },
   "outputs": [
    {
     "data": {
      "text/html": [
       "<div>\n",
       "<style scoped>\n",
       "    .dataframe tbody tr th:only-of-type {\n",
       "        vertical-align: middle;\n",
       "    }\n",
       "\n",
       "    .dataframe tbody tr th {\n",
       "        vertical-align: top;\n",
       "    }\n",
       "\n",
       "    .dataframe thead th {\n",
       "        text-align: right;\n",
       "    }\n",
       "</style>\n",
       "<table border=\"1\" class=\"dataframe\">\n",
       "  <thead>\n",
       "    <tr style=\"text-align: right;\">\n",
       "      <th></th>\n",
       "      <th>article_id</th>\n",
       "      <th>article_title</th>\n",
       "      <th>article_text</th>\n",
       "    </tr>\n",
       "  </thead>\n",
       "  <tbody>\n",
       "    <tr>\n",
       "      <th>0</th>\n",
       "      <td>1</td>\n",
       "      <td>I do not have friends in�tennis, says Maria Sh...</td>\n",
       "      <td>Maria Sharapova has basically no friends as te...</td>\n",
       "    </tr>\n",
       "    <tr>\n",
       "      <th>1</th>\n",
       "      <td>2</td>\n",
       "      <td>Federer defeats Medvedev to advance to 14th Sw...</td>\n",
       "      <td>BASEL, Switzerland (AP) � Roger Federer advanc...</td>\n",
       "    </tr>\n",
       "    <tr>\n",
       "      <th>2</th>\n",
       "      <td>3</td>\n",
       "      <td>Tennis: Roger Federer ignored deadline set by ...</td>\n",
       "      <td>Roger Federer has revealed that organisers of ...</td>\n",
       "    </tr>\n",
       "    <tr>\n",
       "      <th>3</th>\n",
       "      <td>4</td>\n",
       "      <td>Nishikori to face off against Anderson in Vien...</td>\n",
       "      <td>Kei Nishikori will try to end his long losing ...</td>\n",
       "    </tr>\n",
       "    <tr>\n",
       "      <th>4</th>\n",
       "      <td>5</td>\n",
       "      <td>Roger Federer has made this huge change to ten...</td>\n",
       "      <td>Federer, 37, first broke through on tour over ...</td>\n",
       "    </tr>\n",
       "  </tbody>\n",
       "</table>\n",
       "</div>"
      ],
      "text/plain": [
       "   article_id                                      article_title  \\\n",
       "0           1  I do not have friends in�tennis, says Maria Sh...   \n",
       "1           2  Federer defeats Medvedev to advance to 14th Sw...   \n",
       "2           3  Tennis: Roger Federer ignored deadline set by ...   \n",
       "3           4  Nishikori to face off against Anderson in Vien...   \n",
       "4           5  Roger Federer has made this huge change to ten...   \n",
       "\n",
       "                                        article_text  \n",
       "0  Maria Sharapova has basically no friends as te...  \n",
       "1  BASEL, Switzerland (AP) � Roger Federer advanc...  \n",
       "2  Roger Federer has revealed that organisers of ...  \n",
       "3  Kei Nishikori will try to end his long losing ...  \n",
       "4  Federer, 37, first broke through on tour over ...  "
      ]
     },
     "execution_count": 3,
     "metadata": {},
     "output_type": "execute_result"
    }
   ],
   "source": [
    "df.head()"
   ]
  },
  {
   "cell_type": "code",
   "execution_count": 4,
   "id": "bcacc898",
   "metadata": {},
   "outputs": [
    {
     "data": {
      "text/plain": [
       "(8, 3)"
      ]
     },
     "execution_count": 4,
     "metadata": {},
     "output_type": "execute_result"
    }
   ],
   "source": [
    "df.shape"
   ]
  },
  {
   "cell_type": "markdown",
   "id": "f46bf2f4",
   "metadata": {},
   "source": [
    "### Text Summarisation"
   ]
  },
  {
   "cell_type": "code",
   "execution_count": 5,
   "id": "1f691844",
   "metadata": {},
   "outputs": [
    {
     "data": {
      "text/plain": [
       "\"Maria Sharapova has basically no friends as tennis players on the WTA Tour. The Russian player has no problems in openly speaking about it and in a recent interview she said: 'I don't really hide any feelings too much. I think everyone knows this is my job here. When I'm on the courts or when I'm on the court playing, I'm a competitor and I want to beat every single person whether they're in the locker room or across the net. So I'm not the one to strike up a conversation about the weather and know that in the next few minutes I have to go and try to win a tennis match. I'm a pretty competitive girl. I say my hellos, but I'm not sending any players flowers as well. Uhm, I'm not really friendly or close to many players. I have not a lot of friends away from the courts.' When she said she is not really close to a lot of players, is that something strategic that she is doing? Is it different on the men's tour than the women's tour? 'No, not at all. I think just because you're in the same sport doesn't mean that you have to be friends with everyone just because you're categorized, you're a tennis player, so you're going to get along with tennis players. I think every person has different interests. I have friends that have completely different jobs and interests, and I've met them in very different parts of my life. I think everyone just thinks because we're tennis players we should be the greatest of friends. But ultimately tennis is just a very small part of what we do. There are so many other things that we're interested in, that we do.' ALSO READ: Maria Sharapova reveals how tennis keeps her motivated.\""
      ]
     },
     "execution_count": 5,
     "metadata": {},
     "output_type": "execute_result"
    }
   ],
   "source": [
    "text = df['article_text'][0]\n",
    "text"
   ]
  },
  {
   "cell_type": "code",
   "execution_count": 6,
   "id": "d0028e60",
   "metadata": {},
   "outputs": [
    {
     "data": {
      "text/plain": [
       "1629"
      ]
     },
     "execution_count": 6,
     "metadata": {},
     "output_type": "execute_result"
    }
   ],
   "source": [
    "len(text)"
   ]
  },
  {
   "cell_type": "code",
   "execution_count": 7,
   "id": "761eded4",
   "metadata": {},
   "outputs": [],
   "source": [
    "import spacy\n",
    "from spacy.lang.en.stop_words import STOP_WORDS\n",
    "from string import punctuation\n",
    "nlp = spacy.load(\"en_core_web_sm\")\n",
    "doc = nlp(text)"
   ]
  },
  {
   "cell_type": "code",
   "execution_count": 8,
   "id": "6689be95",
   "metadata": {},
   "outputs": [
    {
     "data": {
      "text/plain": [
       "['Maria',\n",
       " 'Sharapova',\n",
       " 'has',\n",
       " 'basically',\n",
       " 'no',\n",
       " 'friends',\n",
       " 'as',\n",
       " 'tennis',\n",
       " 'players',\n",
       " 'on',\n",
       " 'the',\n",
       " 'WTA',\n",
       " 'Tour',\n",
       " '.',\n",
       " 'The',\n",
       " 'Russian',\n",
       " 'player',\n",
       " 'has',\n",
       " 'no',\n",
       " 'problems',\n",
       " 'in',\n",
       " 'openly',\n",
       " 'speaking',\n",
       " 'about',\n",
       " 'it',\n",
       " 'and',\n",
       " 'in',\n",
       " 'a',\n",
       " 'recent',\n",
       " 'interview',\n",
       " 'she',\n",
       " 'said',\n",
       " ':',\n",
       " \"'\",\n",
       " 'I',\n",
       " 'do',\n",
       " \"n't\",\n",
       " 'really',\n",
       " 'hide',\n",
       " 'any',\n",
       " 'feelings',\n",
       " 'too',\n",
       " 'much',\n",
       " '.',\n",
       " 'I',\n",
       " 'think',\n",
       " 'everyone',\n",
       " 'knows',\n",
       " 'this',\n",
       " 'is',\n",
       " 'my',\n",
       " 'job',\n",
       " 'here',\n",
       " '.',\n",
       " 'When',\n",
       " 'I',\n",
       " \"'m\",\n",
       " 'on',\n",
       " 'the',\n",
       " 'courts',\n",
       " 'or',\n",
       " 'when',\n",
       " 'I',\n",
       " \"'m\",\n",
       " 'on',\n",
       " 'the',\n",
       " 'court',\n",
       " 'playing',\n",
       " ',',\n",
       " 'I',\n",
       " \"'m\",\n",
       " 'a',\n",
       " 'competitor',\n",
       " 'and',\n",
       " 'I',\n",
       " 'want',\n",
       " 'to',\n",
       " 'beat',\n",
       " 'every',\n",
       " 'single',\n",
       " 'person',\n",
       " 'whether',\n",
       " 'they',\n",
       " \"'re\",\n",
       " 'in',\n",
       " 'the',\n",
       " 'locker',\n",
       " 'room',\n",
       " 'or',\n",
       " 'across',\n",
       " 'the',\n",
       " 'net',\n",
       " '.',\n",
       " 'So',\n",
       " 'I',\n",
       " \"'m\",\n",
       " 'not',\n",
       " 'the',\n",
       " 'one',\n",
       " 'to',\n",
       " 'strike',\n",
       " 'up',\n",
       " 'a',\n",
       " 'conversation',\n",
       " 'about',\n",
       " 'the',\n",
       " 'weather',\n",
       " 'and',\n",
       " 'know',\n",
       " 'that',\n",
       " 'in',\n",
       " 'the',\n",
       " 'next',\n",
       " 'few',\n",
       " 'minutes',\n",
       " 'I',\n",
       " 'have',\n",
       " 'to',\n",
       " 'go',\n",
       " 'and',\n",
       " 'try',\n",
       " 'to',\n",
       " 'win',\n",
       " 'a',\n",
       " 'tennis',\n",
       " 'match',\n",
       " '.',\n",
       " 'I',\n",
       " \"'m\",\n",
       " 'a',\n",
       " 'pretty',\n",
       " 'competitive',\n",
       " 'girl',\n",
       " '.',\n",
       " 'I',\n",
       " 'say',\n",
       " 'my',\n",
       " 'hellos',\n",
       " ',',\n",
       " 'but',\n",
       " 'I',\n",
       " \"'m\",\n",
       " 'not',\n",
       " 'sending',\n",
       " 'any',\n",
       " 'players',\n",
       " 'flowers',\n",
       " 'as',\n",
       " 'well',\n",
       " '.',\n",
       " 'Uhm',\n",
       " ',',\n",
       " 'I',\n",
       " \"'m\",\n",
       " 'not',\n",
       " 'really',\n",
       " 'friendly',\n",
       " 'or',\n",
       " 'close',\n",
       " 'to',\n",
       " 'many',\n",
       " 'players',\n",
       " '.',\n",
       " 'I',\n",
       " 'have',\n",
       " 'not',\n",
       " 'a',\n",
       " 'lot',\n",
       " 'of',\n",
       " 'friends',\n",
       " 'away',\n",
       " 'from',\n",
       " 'the',\n",
       " 'courts',\n",
       " '.',\n",
       " \"'\",\n",
       " 'When',\n",
       " 'she',\n",
       " 'said',\n",
       " 'she',\n",
       " 'is',\n",
       " 'not',\n",
       " 'really',\n",
       " 'close',\n",
       " 'to',\n",
       " 'a',\n",
       " 'lot',\n",
       " 'of',\n",
       " 'players',\n",
       " ',',\n",
       " 'is',\n",
       " 'that',\n",
       " 'something',\n",
       " 'strategic',\n",
       " 'that',\n",
       " 'she',\n",
       " 'is',\n",
       " 'doing',\n",
       " '?',\n",
       " 'Is',\n",
       " 'it',\n",
       " 'different',\n",
       " 'on',\n",
       " 'the',\n",
       " 'men',\n",
       " \"'s\",\n",
       " 'tour',\n",
       " 'than',\n",
       " 'the',\n",
       " 'women',\n",
       " \"'s\",\n",
       " 'tour',\n",
       " '?',\n",
       " \"'\",\n",
       " 'No',\n",
       " ',',\n",
       " 'not',\n",
       " 'at',\n",
       " 'all',\n",
       " '.',\n",
       " 'I',\n",
       " 'think',\n",
       " 'just',\n",
       " 'because',\n",
       " 'you',\n",
       " \"'re\",\n",
       " 'in',\n",
       " 'the',\n",
       " 'same',\n",
       " 'sport',\n",
       " 'does',\n",
       " \"n't\",\n",
       " 'mean',\n",
       " 'that',\n",
       " 'you',\n",
       " 'have',\n",
       " 'to',\n",
       " 'be',\n",
       " 'friends',\n",
       " 'with',\n",
       " 'everyone',\n",
       " 'just',\n",
       " 'because',\n",
       " 'you',\n",
       " \"'re\",\n",
       " 'categorized',\n",
       " ',',\n",
       " 'you',\n",
       " \"'re\",\n",
       " 'a',\n",
       " 'tennis',\n",
       " 'player',\n",
       " ',',\n",
       " 'so',\n",
       " 'you',\n",
       " \"'re\",\n",
       " 'going',\n",
       " 'to',\n",
       " 'get',\n",
       " 'along',\n",
       " 'with',\n",
       " 'tennis',\n",
       " 'players',\n",
       " '.',\n",
       " 'I',\n",
       " 'think',\n",
       " 'every',\n",
       " 'person',\n",
       " 'has',\n",
       " 'different',\n",
       " 'interests',\n",
       " '.',\n",
       " 'I',\n",
       " 'have',\n",
       " 'friends',\n",
       " 'that',\n",
       " 'have',\n",
       " 'completely',\n",
       " 'different',\n",
       " 'jobs',\n",
       " 'and',\n",
       " 'interests',\n",
       " ',',\n",
       " 'and',\n",
       " 'I',\n",
       " \"'ve\",\n",
       " 'met',\n",
       " 'them',\n",
       " 'in',\n",
       " 'very',\n",
       " 'different',\n",
       " 'parts',\n",
       " 'of',\n",
       " 'my',\n",
       " 'life',\n",
       " '.',\n",
       " 'I',\n",
       " 'think',\n",
       " 'everyone',\n",
       " 'just',\n",
       " 'thinks',\n",
       " 'because',\n",
       " 'we',\n",
       " \"'re\",\n",
       " 'tennis',\n",
       " 'players',\n",
       " 'we',\n",
       " 'should',\n",
       " 'be',\n",
       " 'the',\n",
       " 'greatest',\n",
       " 'of',\n",
       " 'friends',\n",
       " '.',\n",
       " 'But',\n",
       " 'ultimately',\n",
       " 'tennis',\n",
       " 'is',\n",
       " 'just',\n",
       " 'a',\n",
       " 'very',\n",
       " 'small',\n",
       " 'part',\n",
       " 'of',\n",
       " 'what',\n",
       " 'we',\n",
       " 'do',\n",
       " '.',\n",
       " 'There',\n",
       " 'are',\n",
       " 'so',\n",
       " 'many',\n",
       " 'other',\n",
       " 'things',\n",
       " 'that',\n",
       " 'we',\n",
       " \"'re\",\n",
       " 'interested',\n",
       " 'in',\n",
       " ',',\n",
       " 'that',\n",
       " 'we',\n",
       " 'do',\n",
       " '.',\n",
       " \"'\",\n",
       " 'ALSO',\n",
       " 'READ',\n",
       " ':',\n",
       " 'Maria',\n",
       " 'Sharapova',\n",
       " 'reveals',\n",
       " 'how',\n",
       " 'tennis',\n",
       " 'keeps',\n",
       " 'her',\n",
       " 'motivated',\n",
       " '.']"
      ]
     },
     "execution_count": 8,
     "metadata": {},
     "output_type": "execute_result"
    }
   ],
   "source": [
    "tokens = [token.text for token in doc]\n",
    "tokens"
   ]
  },
  {
   "cell_type": "code",
   "execution_count": 9,
   "id": "d65d471c",
   "metadata": {},
   "outputs": [
    {
     "data": {
      "text/plain": [
       "'!\"#$%&\\'()*+,-./:;<=>?@[\\\\]^_`{|}~\\n'"
      ]
     },
     "execution_count": 9,
     "metadata": {},
     "output_type": "execute_result"
    }
   ],
   "source": [
    "punctuation = punctuation + '\\n'\n",
    "punctuation"
   ]
  },
  {
   "cell_type": "markdown",
   "id": "75be29d3",
   "metadata": {},
   "source": [
    "### Text Cleaning"
   ]
  },
  {
   "cell_type": "code",
   "execution_count": 10,
   "id": "dcb23c56",
   "metadata": {},
   "outputs": [
    {
     "name": "stdout",
     "output_type": "stream",
     "text": [
      "{'Maria': 2, 'Sharapova': 2, 'basically': 1, 'friends': 5, 'tennis': 7, 'players': 6, 'WTA': 1, 'Tour': 1, 'Russian': 1, 'player': 2, 'problems': 1, 'openly': 1, 'speaking': 1, 'recent': 1, 'interview': 1, 'said': 2, 'hide': 1, 'feelings': 1, 'think': 4, 'knows': 1, 'job': 1, 'courts': 2, 'court': 1, 'playing': 1, 'competitor': 1, 'want': 1, 'beat': 1, 'single': 1, 'person': 2, 'locker': 1, 'room': 1, 'net': 1, 'strike': 1, 'conversation': 1, 'weather': 1, 'know': 1, 'minutes': 1, 'try': 1, 'win': 1, 'match': 1, 'pretty': 1, 'competitive': 1, 'girl': 1, 'hellos': 1, 'sending': 1, 'flowers': 1, 'Uhm': 1, 'friendly': 1, 'close': 2, 'lot': 2, 'away': 1, 'strategic': 1, 'different': 4, 'men': 1, 'tour': 2, 'women': 1, 'sport': 1, 'mean': 1, 'categorized': 1, 'going': 1, 'interests': 2, 'completely': 1, 'jobs': 1, 'met': 1, 'parts': 1, 'life': 1, 'thinks': 1, 'greatest': 1, 'ultimately': 1, 'small': 1, 'things': 1, 'interested': 1, 'READ': 1, 'reveals': 1, 'keeps': 1, 'motivated': 1}\n"
     ]
    }
   ],
   "source": [
    "word_freq = {}\n",
    "\n",
    "stop_words = list(STOP_WORDS)\n",
    "\n",
    "for word in doc:\n",
    "    if word.text.lower() not in stop_words:\n",
    "        if word.text.lower() not in punctuation:\n",
    "            if word.text not in word_freq.keys():\n",
    "                word_freq[word.text] = 1\n",
    "            else:\n",
    "                word_freq[word.text] += 1\n",
    "                \n",
    "print(word_freq)"
   ]
  },
  {
   "cell_type": "code",
   "execution_count": 11,
   "id": "b9b4d50d",
   "metadata": {},
   "outputs": [],
   "source": [
    "max_freq = max(word_freq.values())"
   ]
  },
  {
   "cell_type": "code",
   "execution_count": 12,
   "id": "ddc887b4",
   "metadata": {},
   "outputs": [],
   "source": [
    "for word in word_freq.keys():\n",
    "    word_freq[word] = word_freq[word] / max_freq"
   ]
  },
  {
   "cell_type": "code",
   "execution_count": 13,
   "id": "4d1210a8",
   "metadata": {},
   "outputs": [
    {
     "name": "stdout",
     "output_type": "stream",
     "text": [
      "{'Maria': 0.2857142857142857, 'Sharapova': 0.2857142857142857, 'basically': 0.14285714285714285, 'friends': 0.7142857142857143, 'tennis': 1.0, 'players': 0.8571428571428571, 'WTA': 0.14285714285714285, 'Tour': 0.14285714285714285, 'Russian': 0.14285714285714285, 'player': 0.2857142857142857, 'problems': 0.14285714285714285, 'openly': 0.14285714285714285, 'speaking': 0.14285714285714285, 'recent': 0.14285714285714285, 'interview': 0.14285714285714285, 'said': 0.2857142857142857, 'hide': 0.14285714285714285, 'feelings': 0.14285714285714285, 'think': 0.5714285714285714, 'knows': 0.14285714285714285, 'job': 0.14285714285714285, 'courts': 0.2857142857142857, 'court': 0.14285714285714285, 'playing': 0.14285714285714285, 'competitor': 0.14285714285714285, 'want': 0.14285714285714285, 'beat': 0.14285714285714285, 'single': 0.14285714285714285, 'person': 0.2857142857142857, 'locker': 0.14285714285714285, 'room': 0.14285714285714285, 'net': 0.14285714285714285, 'strike': 0.14285714285714285, 'conversation': 0.14285714285714285, 'weather': 0.14285714285714285, 'know': 0.14285714285714285, 'minutes': 0.14285714285714285, 'try': 0.14285714285714285, 'win': 0.14285714285714285, 'match': 0.14285714285714285, 'pretty': 0.14285714285714285, 'competitive': 0.14285714285714285, 'girl': 0.14285714285714285, 'hellos': 0.14285714285714285, 'sending': 0.14285714285714285, 'flowers': 0.14285714285714285, 'Uhm': 0.14285714285714285, 'friendly': 0.14285714285714285, 'close': 0.2857142857142857, 'lot': 0.2857142857142857, 'away': 0.14285714285714285, 'strategic': 0.14285714285714285, 'different': 0.5714285714285714, 'men': 0.14285714285714285, 'tour': 0.2857142857142857, 'women': 0.14285714285714285, 'sport': 0.14285714285714285, 'mean': 0.14285714285714285, 'categorized': 0.14285714285714285, 'going': 0.14285714285714285, 'interests': 0.2857142857142857, 'completely': 0.14285714285714285, 'jobs': 0.14285714285714285, 'met': 0.14285714285714285, 'parts': 0.14285714285714285, 'life': 0.14285714285714285, 'thinks': 0.14285714285714285, 'greatest': 0.14285714285714285, 'ultimately': 0.14285714285714285, 'small': 0.14285714285714285, 'things': 0.14285714285714285, 'interested': 0.14285714285714285, 'READ': 0.14285714285714285, 'reveals': 0.14285714285714285, 'keeps': 0.14285714285714285, 'motivated': 0.14285714285714285}\n"
     ]
    }
   ],
   "source": [
    "print(word_freq)"
   ]
  },
  {
   "cell_type": "markdown",
   "id": "9bd9ff69",
   "metadata": {},
   "source": [
    "### Sentence Tokenisation"
   ]
  },
  {
   "cell_type": "code",
   "execution_count": 14,
   "id": "cfb05b5f",
   "metadata": {
    "scrolled": true
   },
   "outputs": [
    {
     "data": {
      "text/plain": [
       "[Maria Sharapova has basically no friends as tennis players on the WTA Tour.,\n",
       " The Russian player has no problems in openly speaking about it and in a recent interview she said: 'I don't really hide any feelings too much.,\n",
       " I think everyone knows this is my job here.,\n",
       " When I'm on the courts or when I'm on the court playing, I'm a competitor and I want to beat every single person whether they're in the locker room or across the net.,\n",
       " So I'm not the one to strike up a conversation about the weather and know that in the next few minutes I have to go and try to win a tennis match.]"
      ]
     },
     "execution_count": 14,
     "metadata": {},
     "output_type": "execute_result"
    }
   ],
   "source": [
    "sent_tokens = [sent for sent in doc.sents]\n",
    "sent_tokens[:5]"
   ]
  },
  {
   "cell_type": "code",
   "execution_count": 15,
   "id": "502fc6b3",
   "metadata": {},
   "outputs": [],
   "source": [
    "sent_score = {}\n",
    "\n",
    "for sent in sent_tokens:\n",
    "    for word in sent:\n",
    "        if word.text.lower() in word_freq.keys():\n",
    "            if sent not in sent_score.keys():\n",
    "                sent_score[sent] = word_freq[word.text.lower()]\n",
    "            else:\n",
    "                sent_score[sent] += word_freq[word.text.lower()]\n"
   ]
  },
  {
   "cell_type": "code",
   "execution_count": 16,
   "id": "459a3c98",
   "metadata": {},
   "outputs": [
    {
     "name": "stdout",
     "output_type": "stream",
     "text": [
      "{Maria Sharapova has basically no friends as tennis players on the WTA Tour.: 3.0, The Russian player has no problems in openly speaking about it and in a recent interview she said: 'I don't really hide any feelings too much.: 1.5714285714285712, I think everyone knows this is my job here.: 0.857142857142857, When I'm on the courts or when I'm on the court playing, I'm a competitor and I want to beat every single person whether they're in the locker room or across the net.: 1.8571428571428568, So I'm not the one to strike up a conversation about the weather and know that in the next few minutes I have to go and try to win a tennis match.: 2.142857142857143, I'm a pretty competitive girl.: 0.42857142857142855, I say my hellos, but I'm not sending any players flowers as well.: 1.2857142857142856, Uhm, I'm not really friendly or close to many players.: 1.2857142857142856, I have not a lot of friends away from the courts.': 1.4285714285714284, When she said she is not really close to a lot of players, is that something strategic that she is doing?: 1.857142857142857, Is it different on the men's tour than the women's tour? ': 1.4285714285714284, I think just because you're in the same sport doesn't mean that you have to be friends with everyone just because you're categorized, you're a tennis player, so you're going to get along with tennis players.: 4.999999999999999, I think every person has different interests.: 1.714285714285714, I have friends that have completely different jobs and interests, and I've met them in very different parts of my life.: 2.8571428571428568, I think everyone just thinks because we're tennis players we should be the greatest of friends.: 3.4285714285714284, But ultimately tennis is just a very small part of what we do.: 1.2857142857142856, There are so many other things that we're interested in, that we do.': 0.2857142857142857, Maria Sharapova reveals how tennis keeps her motivated.: 1.4285714285714284}\n"
     ]
    }
   ],
   "source": [
    "print(sent_score)"
   ]
  },
  {
   "cell_type": "markdown",
   "id": "d51cfb1c",
   "metadata": {},
   "source": [
    "### select 30% sentences with maximum score"
   ]
  },
  {
   "cell_type": "code",
   "execution_count": 17,
   "id": "84ca9d56",
   "metadata": {},
   "outputs": [],
   "source": [
    "from heapq import nlargest"
   ]
  },
  {
   "cell_type": "code",
   "execution_count": 18,
   "id": "8f92364d",
   "metadata": {},
   "outputs": [
    {
     "data": {
      "text/plain": [
       "6.0"
      ]
     },
     "execution_count": 18,
     "metadata": {},
     "output_type": "execute_result"
    }
   ],
   "source": [
    "np.ceil(len(sent_score) *0.3)"
   ]
  },
  {
   "cell_type": "markdown",
   "id": "9eb7e2f5",
   "metadata": {},
   "source": [
    "### Getting The Summary"
   ]
  },
  {
   "cell_type": "code",
   "execution_count": 19,
   "id": "f14536a3",
   "metadata": {},
   "outputs": [
    {
     "name": "stdout",
     "output_type": "stream",
     "text": [
      "[I think just because you're in the same sport doesn't mean that you have to be friends with everyone just because you're categorized, you're a tennis player, so you're going to get along with tennis players., I think everyone just thinks because we're tennis players we should be the greatest of friends., Maria Sharapova has basically no friends as tennis players on the WTA Tour., I have friends that have completely different jobs and interests, and I've met them in very different parts of my life., So I'm not the one to strike up a conversation about the weather and know that in the next few minutes I have to go and try to win a tennis match., When she said she is not really close to a lot of players, is that something strategic that she is doing?]\n"
     ]
    }
   ],
   "source": [
    "summary = nlargest(n = 6,iterable=sent_score, key=sent_score.get)\n",
    "print(summary)"
   ]
  },
  {
   "cell_type": "code",
   "execution_count": 20,
   "id": "545a8818",
   "metadata": {},
   "outputs": [
    {
     "name": "stdout",
     "output_type": "stream",
     "text": [
      "I think just because you're in the same sport doesn't mean that you have to be friends with everyone just because you're categorized, you're a tennis player, so you're going to get along with tennis players. I think everyone just thinks because we're tennis players we should be the greatest of friends. Maria Sharapova has basically no friends as tennis players on the WTA Tour. I have friends that have completely different jobs and interests, and I've met them in very different parts of my life. So I'm not the one to strike up a conversation about the weather and know that in the next few minutes I have to go and try to win a tennis match. When she said she is not really close to a lot of players, is that something strategic that she is doing?\n"
     ]
    }
   ],
   "source": [
    "final_summary = \" \".join([word.text for word in summary])\n",
    "print(final_summary)\n"
   ]
  },
  {
   "cell_type": "code",
   "execution_count": 21,
   "id": "233aa980",
   "metadata": {},
   "outputs": [
    {
     "name": "stdout",
     "output_type": "stream",
     "text": [
      "the percentage reduction of summary is : 0.5383670963781462\n"
     ]
    }
   ],
   "source": [
    "print(\"the percentage reduction of summary is :\",1-len(final_summary)/len(text))"
   ]
  },
  {
   "cell_type": "markdown",
   "id": "0c438ce8",
   "metadata": {},
   "source": [
    "so guys as you can see that we have drastically reduced the summary "
   ]
  },
  {
   "cell_type": "markdown",
   "id": "e35ea583",
   "metadata": {},
   "source": [
    "### so guys lets automate these for rest of texts"
   ]
  },
  {
   "cell_type": "code",
   "execution_count": 22,
   "id": "fcdfc938",
   "metadata": {},
   "outputs": [],
   "source": [
    "def text_summarisation(df,title,text_summary):\n",
    "    print(i, df[title][i])\n",
    "    text = df[text_summary][i]\n",
    "    import spacy\n",
    "    \n",
    "    from spacy.lang.en.stop_words import STOP_WORDS\n",
    "    stop_words = list(STOP_WORDS)\n",
    "    from string import punctuation\n",
    "    punctuation = punctuation + '\\n'\n",
    "    nlp = spacy.load(\"en_core_web_sm\")\n",
    "    doc = nlp(text)\n",
    "    return doc"
   ]
  },
  {
   "cell_type": "code",
   "execution_count": 23,
   "id": "e4ae11a5",
   "metadata": {},
   "outputs": [],
   "source": [
    "def text_cleaning(doc):\n",
    "    word_freq = {}\n",
    "    \n",
    "    for word in doc:\n",
    "        if word.text.lower() not in stop_words:\n",
    "            if word.text.lower() not in punctuation:\n",
    "                if word.text not in word_freq.keys():\n",
    "                    word_freq[word.text] = 1\n",
    "                else:\n",
    "                    word_freq[word.text] += 1\n",
    "\n",
    "    max_freq = max(word_freq.values())\n",
    "    for word in word_freq.keys():\n",
    "        word_freq[word] = word_freq[word] / max_freq\n",
    "    \n",
    "    return word_freq"
   ]
  },
  {
   "cell_type": "code",
   "execution_count": 24,
   "id": "086caea7",
   "metadata": {},
   "outputs": [],
   "source": [
    "def sentence_tokenisation(doc,word_freq):\n",
    "    sent_tokens = [sent for sent in doc.sents]\n",
    "    sent_score = {}\n",
    "\n",
    "    for sent in sent_tokens:\n",
    "        for word in sent:\n",
    "            if word.text.lower() in word_freq.keys():\n",
    "                if sent not in sent_score.keys():\n",
    "                    sent_score[sent] = word_freq[word.text.lower()]\n",
    "                else:\n",
    "                    sent_score[sent] += word_freq[word.text.lower()]\n",
    "    return sent_score"
   ]
  },
  {
   "cell_type": "code",
   "execution_count": 25,
   "id": "420582b9",
   "metadata": {},
   "outputs": [],
   "source": [
    "def percentage_summary(percent,sent_score):\n",
    "    from heapq import nlargest\n",
    "    n_value = int(np.ceil(len(sent_score) *int(percent)/100))\n",
    "    summary = nlargest(n = n_value,iterable=sent_score, key=sent_score.get)\n",
    "    final_summary = \" \".join([word.text for word in summary])\n",
    "    print(final_summary)"
   ]
  },
  {
   "cell_type": "code",
   "execution_count": 26,
   "id": "d6efe650",
   "metadata": {},
   "outputs": [
    {
     "name": "stdout",
     "output_type": "stream",
     "text": [
      "0 I do not have friends in�tennis, says Maria Sharapova\n",
      "I think just because you're in the same sport doesn't mean that you have to be friends with everyone just because you're categorized, you're a tennis player, so you're going to get along with tennis players. I think everyone just thinks because we're tennis players we should be the greatest of friends. Maria Sharapova has basically no friends as tennis players on the WTA Tour. I have friends that have completely different jobs and interests, and I've met them in very different parts of my life. So I'm not the one to strike up a conversation about the weather and know that in the next few minutes I have to go and try to win a tennis match. When she said she is not really close to a lot of players, is that something strategic that she is doing?\n",
      "\n",
      "1 Federer defeats Medvedev to advance to 14th Swiss Indoors final\n",
      "I think just because you're in the same sport doesn't mean that you have to be friends with everyone just because you're categorized, you're a tennis player, so you're going to get along with tennis players. I think everyone just thinks because we're tennis players we should be the greatest of friends. Maria Sharapova has basically no friends as tennis players on the WTA Tour. I have friends that have completely different jobs and interests, and I've met them in very different parts of my life. So I'm not the one to strike up a conversation about the weather and know that in the next few minutes I have to go and try to win a tennis match. When she said she is not really close to a lot of players, is that something strategic that she is doing?\n",
      "\n",
      "2 Tennis: Roger Federer ignored deadline set by 'new' Davis Cup\n",
      "I think just because you're in the same sport doesn't mean that you have to be friends with everyone just because you're categorized, you're a tennis player, so you're going to get along with tennis players. I think everyone just thinks because we're tennis players we should be the greatest of friends. Maria Sharapova has basically no friends as tennis players on the WTA Tour. I have friends that have completely different jobs and interests, and I've met them in very different parts of my life. So I'm not the one to strike up a conversation about the weather and know that in the next few minutes I have to go and try to win a tennis match. When she said she is not really close to a lot of players, is that something strategic that she is doing?\n",
      "\n",
      "3 Nishikori to face off against Anderson in Vienna final\n",
      "I think just because you're in the same sport doesn't mean that you have to be friends with everyone just because you're categorized, you're a tennis player, so you're going to get along with tennis players. I think everyone just thinks because we're tennis players we should be the greatest of friends. Maria Sharapova has basically no friends as tennis players on the WTA Tour. I have friends that have completely different jobs and interests, and I've met them in very different parts of my life. So I'm not the one to strike up a conversation about the weather and know that in the next few minutes I have to go and try to win a tennis match. When she said she is not really close to a lot of players, is that something strategic that she is doing?\n",
      "\n",
      "4 Roger Federer has made this huge change to tennis - Lindsay Davenport\n",
      "I think just because you're in the same sport doesn't mean that you have to be friends with everyone just because you're categorized, you're a tennis player, so you're going to get along with tennis players. I think everyone just thinks because we're tennis players we should be the greatest of friends. Maria Sharapova has basically no friends as tennis players on the WTA Tour. I have friends that have completely different jobs and interests, and I've met them in very different parts of my life. So I'm not the one to strike up a conversation about the weather and know that in the next few minutes I have to go and try to win a tennis match. When she said she is not really close to a lot of players, is that something strategic that she is doing?\n",
      "\n",
      "5 Rafael Nadal: World No 1 ARRIVES for Paris Masters - WATCH\n",
      "I think just because you're in the same sport doesn't mean that you have to be friends with everyone just because you're categorized, you're a tennis player, so you're going to get along with tennis players. I think everyone just thinks because we're tennis players we should be the greatest of friends. Maria Sharapova has basically no friends as tennis players on the WTA Tour. I have friends that have completely different jobs and interests, and I've met them in very different parts of my life. So I'm not the one to strike up a conversation about the weather and know that in the next few minutes I have to go and try to win a tennis match. When she said she is not really close to a lot of players, is that something strategic that she is doing?\n",
      "\n",
      "6 TENNIS.COM PODCAST: POINT DEFENSE, RANKING DROPS AND ON-COURT COACHING\n",
      "I think just because you're in the same sport doesn't mean that you have to be friends with everyone just because you're categorized, you're a tennis player, so you're going to get along with tennis players. I think everyone just thinks because we're tennis players we should be the greatest of friends. Maria Sharapova has basically no friends as tennis players on the WTA Tour. I have friends that have completely different jobs and interests, and I've met them in very different parts of my life. So I'm not the one to strike up a conversation about the weather and know that in the next few minutes I have to go and try to win a tennis match. When she said she is not really close to a lot of players, is that something strategic that she is doing?\n",
      "\n",
      "7 Tennis journalist�s heartbreaking insight on Todd Reid\n",
      "I think just because you're in the same sport doesn't mean that you have to be friends with everyone just because you're categorized, you're a tennis player, so you're going to get along with tennis players. I think everyone just thinks because we're tennis players we should be the greatest of friends. Maria Sharapova has basically no friends as tennis players on the WTA Tour. I have friends that have completely different jobs and interests, and I've met them in very different parts of my life. So I'm not the one to strike up a conversation about the weather and know that in the next few minutes I have to go and try to win a tennis match. When she said she is not really close to a lot of players, is that something strategic that she is doing?\n",
      "\n"
     ]
    }
   ],
   "source": [
    "for i in range(len(df['article_text'])):\n",
    "    text_summarisation(df,'article_title','article_text')\n",
    "    text_cleaning(doc)\n",
    "    sentence_tokenisation(doc,word_freq)\n",
    "    percentage_summary(30,sent_score)\n",
    "    print()"
   ]
  },
  {
   "cell_type": "code",
   "execution_count": null,
   "id": "e144f07a",
   "metadata": {},
   "outputs": [],
   "source": []
  }
 ],
 "metadata": {
  "kernelspec": {
   "display_name": "Python 3",
   "language": "python",
   "name": "python3"
  },
  "language_info": {
   "codemirror_mode": {
    "name": "ipython",
    "version": 3
   },
   "file_extension": ".py",
   "mimetype": "text/x-python",
   "name": "python",
   "nbconvert_exporter": "python",
   "pygments_lexer": "ipython3",
   "version": "3.8.8"
  }
 },
 "nbformat": 4,
 "nbformat_minor": 5
}
